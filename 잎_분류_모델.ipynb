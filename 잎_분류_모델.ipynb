{
  "nbformat": 4,
  "nbformat_minor": 0,
  "metadata": {
    "colab": {
      "provenance": [],
      "gpuType": "T4",
      "mount_file_id": "1blbmAIG2qQ6EP1Zmin9MTvmCGd7H7rqX",
      "authorship_tag": "ABX9TyN5LfBMXskP4riBNI0zaHo0",
      "include_colab_link": true
    },
    "kernelspec": {
      "name": "python3",
      "display_name": "Python 3"
    },
    "language_info": {
      "name": "python"
    },
    "accelerator": "GPU"
  },
  "cells": [
    {
      "cell_type": "markdown",
      "metadata": {
        "id": "view-in-github",
        "colab_type": "text"
      },
      "source": [
        "<a href=\"https://colab.research.google.com/github/0-0Jay/Machine-Learning/blob/main/%EC%9E%8E_%EB%B6%84%EB%A5%98_%EB%AA%A8%EB%8D%B8.ipynb\" target=\"_parent\"><img src=\"https://colab.research.google.com/assets/colab-badge.svg\" alt=\"Open In Colab\"/></a>"
      ]
    },
    {
      "cell_type": "markdown",
      "source": [
        "참고 자료<br>\n",
        "1. 데이터 라벨링 : https://data-panic.tistory.com/13 <br>\n",
        "2. 이미지 전처리 : https://luvris2.tistory.com/173 <br>\n",
        "\n",
        "<h1>데이터 전처리</h1>"
      ],
      "metadata": {
        "id": "tyeb82Zk6xFK"
      }
    },
    {
      "cell_type": "code",
      "source": [
        "from google.colab import drive\n",
        "drive.mount('/content/drive')"
      ],
      "metadata": {
        "id": "DxbuBH5n6Cnv",
        "colab": {
          "base_uri": "https://localhost:8080/"
        },
        "outputId": "4727bb5e-8b37-4cc0-b76a-2817bba367e8"
      },
      "execution_count": 1,
      "outputs": [
        {
          "output_type": "stream",
          "name": "stdout",
          "text": [
            "Drive already mounted at /content/drive; to attempt to forcibly remount, call drive.mount(\"/content/drive\", force_remount=True).\n"
          ]
        }
      ]
    },
    {
      "cell_type": "code",
      "source": [
        "from PIL import Image\n",
        "%matplotlib inline\n",
        "import matplotlib\n",
        "import matplotlib.pyplot as plt\n",
        "import numpy as np\n",
        "from tensorflow import keras\n",
        "import os\n",
        "from keras.preprocessing import image"
      ],
      "metadata": {
        "id": "cBsfQg926POd"
      },
      "execution_count": 21,
      "outputs": []
    },
    {
      "cell_type": "code",
      "source": [
        "# 데이터 경로 설정\n",
        "data_dir = '/content/drive/MyDrive/leaf'\n",
        "\n",
        "# 이미지 데이터 생성기 설정\n",
        "image_generator = image.ImageDataGenerator(\n",
        "    rescale=1./255,  # 이미지 값을 0과 1 사이로 정규화\n",
        "    validation_split=0.2  # 검증용 데이터셋의 비율\n",
        ")\n",
        "\n",
        "# 훈련 데이터 생성\n",
        "train_set = image_generator.flow_from_directory(\n",
        "    data_dir,\n",
        "    target_size = (80, 120),  # 이미지 크기 조정\n",
        "    batch_size = 32,\n",
        "    class_mode = 'categorical',  # 다중 클래스 분류\n",
        "    subset = 'training',  # 훈련용 데이터\n",
        "    shuffle = True\n",
        ")\n",
        "\n",
        "\n",
        "# 검증 데이터 생성\n",
        "validation_set = image_generator.flow_from_directory(\n",
        "    data_dir,\n",
        "    target_size = (80, 120),\n",
        "    batch_size = 32,\n",
        "    class_mode = 'categorical',\n",
        "    subset = 'validation',  # 검증용 데이터\n",
        "    shuffle = True\n",
        ")\n",
        "\n"
      ],
      "metadata": {
        "colab": {
          "base_uri": "https://localhost:8080/"
        },
        "id": "pzPk03c_8PV3",
        "outputId": "5aabc390-b450-451f-f241-2469942c5e3a"
      },
      "execution_count": 13,
      "outputs": [
        {
          "output_type": "stream",
          "name": "stdout",
          "text": [
            "Found 586 images belonging to 5 classes.\n",
            "Found 144 images belonging to 5 classes.\n"
          ]
        }
      ]
    },
    {
      "cell_type": "markdown",
      "source": [
        "<h1>이미지 훈련 모델 생성</h1>"
      ],
      "metadata": {
        "id": "R6B19tArpwBC"
      }
    },
    {
      "cell_type": "code",
      "source": [
        "train_set.samples /32  # 1에폭당 몇개의 batch가 들어가는지 체크"
      ],
      "metadata": {
        "colab": {
          "base_uri": "https://localhost:8080/"
        },
        "id": "EaQFaZlKFIHq",
        "outputId": "f56b2f03-3841-45d2-e302-868d1fb10890"
      },
      "execution_count": 8,
      "outputs": [
        {
          "output_type": "execute_result",
          "data": {
            "text/plain": [
              "18.3125"
            ]
          },
          "metadata": {},
          "execution_count": 8
        }
      ]
    },
    {
      "cell_type": "code",
      "source": [
        "model = keras.Sequential([\n",
        "    keras.layers.Conv2D(32, (3, 3), activation='relu', input_shape=(80, 120, 3)),\n",
        "    keras.layers.MaxPooling2D((2, 2)),\n",
        "    keras.layers.Conv2D(64, (3, 3), activation='relu'),\n",
        "    keras.layers.MaxPooling2D((2, 2)),\n",
        "    keras.layers.Conv2D(64, (3, 3), activation='relu'),\n",
        "    keras.layers.Flatten(),\n",
        "    keras.layers.Dense(64, activation='relu'),\n",
        "    keras.layers.Dense(5, activation='softmax')\n",
        "])\n",
        "\n",
        "model.summary()"
      ],
      "metadata": {
        "colab": {
          "base_uri": "https://localhost:8080/"
        },
        "id": "MDbOT_ls_c_u",
        "outputId": "b62d6f3c-9fcc-4c7d-b498-66bb7ed7ec09"
      },
      "execution_count": 9,
      "outputs": [
        {
          "output_type": "stream",
          "name": "stdout",
          "text": [
            "Model: \"sequential_1\"\n",
            "_________________________________________________________________\n",
            " Layer (type)                Output Shape              Param #   \n",
            "=================================================================\n",
            " conv2d_3 (Conv2D)           (None, 78, 118, 32)       896       \n",
            "                                                                 \n",
            " max_pooling2d_2 (MaxPoolin  (None, 39, 59, 32)        0         \n",
            " g2D)                                                            \n",
            "                                                                 \n",
            " conv2d_4 (Conv2D)           (None, 37, 57, 64)        18496     \n",
            "                                                                 \n",
            " max_pooling2d_3 (MaxPoolin  (None, 18, 28, 64)        0         \n",
            " g2D)                                                            \n",
            "                                                                 \n",
            " conv2d_5 (Conv2D)           (None, 16, 26, 64)        36928     \n",
            "                                                                 \n",
            " flatten_1 (Flatten)         (None, 26624)             0         \n",
            "                                                                 \n",
            " dense_2 (Dense)             (None, 64)                1704000   \n",
            "                                                                 \n",
            " dense_3 (Dense)             (None, 5)                 325       \n",
            "                                                                 \n",
            "=================================================================\n",
            "Total params: 1760645 (6.72 MB)\n",
            "Trainable params: 1760645 (6.72 MB)\n",
            "Non-trainable params: 0 (0.00 Byte)\n",
            "_________________________________________________________________\n"
          ]
        }
      ]
    },
    {
      "cell_type": "code",
      "source": [
        "model.compile(optimizer='adam', loss='categorical_crossentropy', metrics='accuracy')\n",
        "model.fit(train_set,\n",
        "          steps_per_epoch = 16,   # 훈련세트 수 / 배치 사이즈\n",
        "          epochs = 7,\n",
        "          validation_data = validation_set,\n",
        "          validation_steps = 16)"
      ],
      "metadata": {
        "id": "yhHhCkYnLrty",
        "colab": {
          "base_uri": "https://localhost:8080/"
        },
        "outputId": "2968bbfc-1e91-46ce-b3f1-2b8929f422bd"
      },
      "execution_count": 14,
      "outputs": [
        {
          "output_type": "stream",
          "name": "stdout",
          "text": [
            "Epoch 1/7\n",
            "16/16 [==============================] - ETA: 0s - loss: 1.2229 - accuracy: 0.5163"
          ]
        },
        {
          "output_type": "stream",
          "name": "stderr",
          "text": [
            "WARNING:tensorflow:Your input ran out of data; interrupting training. Make sure that your dataset or generator can generate at least `steps_per_epoch * epochs` batches (in this case, 16 batches). You may need to use the repeat() function when building your dataset.\n"
          ]
        },
        {
          "output_type": "stream",
          "name": "stdout",
          "text": [
            "\b\b\b\b\b\b\b\b\b\b\b\b\b\b\b\b\b\b\b\b\b\b\b\b\b\b\b\b\b\b\b\b\b\b\b\b\b\b\b\b\b\b\b\b\b\b\b\b\b\b\b\b\b\b\b\b\b\b\b\b\b\b\b\b\b\b\b\b\b\b\b\b\b\b\b\b\b\b\b\b\b\b\r16/16 [==============================] - 197s 12s/step - loss: 1.2229 - accuracy: 0.5163 - val_loss: 1.0269 - val_accuracy: 0.6319\n",
            "Epoch 2/7\n",
            "16/16 [==============================] - 68s 4s/step - loss: 0.6648 - accuracy: 0.7347\n",
            "Epoch 3/7\n",
            "16/16 [==============================] - 74s 5s/step - loss: 0.3544 - accuracy: 0.8776\n",
            "Epoch 4/7\n",
            "16/16 [==============================] - 69s 5s/step - loss: 0.2043 - accuracy: 0.9327\n",
            "Epoch 5/7\n",
            "16/16 [==============================] - 65s 4s/step - loss: 0.1888 - accuracy: 0.9408\n",
            "Epoch 6/7\n",
            "16/16 [==============================] - 74s 5s/step - loss: 0.1751 - accuracy: 0.9510\n",
            "Epoch 7/7\n",
            "16/16 [==============================] - 73s 5s/step - loss: 0.1225 - accuracy: 0.9612\n"
          ]
        },
        {
          "output_type": "execute_result",
          "data": {
            "text/plain": [
              "<keras.src.callbacks.History at 0x78067edd7d30>"
            ]
          },
          "metadata": {},
          "execution_count": 14
        }
      ]
    },
    {
      "cell_type": "markdown",
      "source": [
        "<h1>모델 평가</h1>"
      ],
      "metadata": {
        "id": "05d72nMCsqiC"
      }
    },
    {
      "cell_type": "code",
      "source": [
        "model.evaluate(validation_set)"
      ],
      "metadata": {
        "colab": {
          "base_uri": "https://localhost:8080/"
        },
        "id": "bchQKqFaokqK",
        "outputId": "c4dd2cec-092f-4928-b2dc-887dabaeabe4"
      },
      "execution_count": 15,
      "outputs": [
        {
          "output_type": "stream",
          "name": "stdout",
          "text": [
            "5/5 [==============================] - 22s 5s/step - loss: 0.1421 - accuracy: 0.9722\n"
          ]
        },
        {
          "output_type": "execute_result",
          "data": {
            "text/plain": [
              "[0.14206655323505402, 0.9722222089767456]"
            ]
          },
          "metadata": {},
          "execution_count": 15
        }
      ]
    },
    {
      "cell_type": "markdown",
      "source": [
        "<h1>실제 동작 테스트</h1>"
      ],
      "metadata": {
        "id": "irhcAXTzuP3f"
      }
    },
    {
      "cell_type": "code",
      "source": [
        "from google.colab import files\n",
        "# 파일 업로드 하기\n",
        "uploaded = files.upload()"
      ],
      "metadata": {
        "colab": {
          "base_uri": "https://localhost:8080/",
          "height": 76
        },
        "id": "W6odRuuWuPV9",
        "outputId": "5568d4ba-35cc-4462-938e-953ff66b8752"
      },
      "execution_count": 18,
      "outputs": [
        {
          "output_type": "display_data",
          "data": {
            "text/plain": [
              "<IPython.core.display.HTML object>"
            ],
            "text/html": [
              "\n",
              "     <input type=\"file\" id=\"files-3bf6d916-8043-4bc8-852a-982498b77215\" name=\"files[]\" multiple disabled\n",
              "        style=\"border:none\" />\n",
              "     <output id=\"result-3bf6d916-8043-4bc8-852a-982498b77215\">\n",
              "      Upload widget is only available when the cell has been executed in the\n",
              "      current browser session. Please rerun this cell to enable.\n",
              "      </output>\n",
              "      <script>// Copyright 2017 Google LLC\n",
              "//\n",
              "// Licensed under the Apache License, Version 2.0 (the \"License\");\n",
              "// you may not use this file except in compliance with the License.\n",
              "// You may obtain a copy of the License at\n",
              "//\n",
              "//      http://www.apache.org/licenses/LICENSE-2.0\n",
              "//\n",
              "// Unless required by applicable law or agreed to in writing, software\n",
              "// distributed under the License is distributed on an \"AS IS\" BASIS,\n",
              "// WITHOUT WARRANTIES OR CONDITIONS OF ANY KIND, either express or implied.\n",
              "// See the License for the specific language governing permissions and\n",
              "// limitations under the License.\n",
              "\n",
              "/**\n",
              " * @fileoverview Helpers for google.colab Python module.\n",
              " */\n",
              "(function(scope) {\n",
              "function span(text, styleAttributes = {}) {\n",
              "  const element = document.createElement('span');\n",
              "  element.textContent = text;\n",
              "  for (const key of Object.keys(styleAttributes)) {\n",
              "    element.style[key] = styleAttributes[key];\n",
              "  }\n",
              "  return element;\n",
              "}\n",
              "\n",
              "// Max number of bytes which will be uploaded at a time.\n",
              "const MAX_PAYLOAD_SIZE = 100 * 1024;\n",
              "\n",
              "function _uploadFiles(inputId, outputId) {\n",
              "  const steps = uploadFilesStep(inputId, outputId);\n",
              "  const outputElement = document.getElementById(outputId);\n",
              "  // Cache steps on the outputElement to make it available for the next call\n",
              "  // to uploadFilesContinue from Python.\n",
              "  outputElement.steps = steps;\n",
              "\n",
              "  return _uploadFilesContinue(outputId);\n",
              "}\n",
              "\n",
              "// This is roughly an async generator (not supported in the browser yet),\n",
              "// where there are multiple asynchronous steps and the Python side is going\n",
              "// to poll for completion of each step.\n",
              "// This uses a Promise to block the python side on completion of each step,\n",
              "// then passes the result of the previous step as the input to the next step.\n",
              "function _uploadFilesContinue(outputId) {\n",
              "  const outputElement = document.getElementById(outputId);\n",
              "  const steps = outputElement.steps;\n",
              "\n",
              "  const next = steps.next(outputElement.lastPromiseValue);\n",
              "  return Promise.resolve(next.value.promise).then((value) => {\n",
              "    // Cache the last promise value to make it available to the next\n",
              "    // step of the generator.\n",
              "    outputElement.lastPromiseValue = value;\n",
              "    return next.value.response;\n",
              "  });\n",
              "}\n",
              "\n",
              "/**\n",
              " * Generator function which is called between each async step of the upload\n",
              " * process.\n",
              " * @param {string} inputId Element ID of the input file picker element.\n",
              " * @param {string} outputId Element ID of the output display.\n",
              " * @return {!Iterable<!Object>} Iterable of next steps.\n",
              " */\n",
              "function* uploadFilesStep(inputId, outputId) {\n",
              "  const inputElement = document.getElementById(inputId);\n",
              "  inputElement.disabled = false;\n",
              "\n",
              "  const outputElement = document.getElementById(outputId);\n",
              "  outputElement.innerHTML = '';\n",
              "\n",
              "  const pickedPromise = new Promise((resolve) => {\n",
              "    inputElement.addEventListener('change', (e) => {\n",
              "      resolve(e.target.files);\n",
              "    });\n",
              "  });\n",
              "\n",
              "  const cancel = document.createElement('button');\n",
              "  inputElement.parentElement.appendChild(cancel);\n",
              "  cancel.textContent = 'Cancel upload';\n",
              "  const cancelPromise = new Promise((resolve) => {\n",
              "    cancel.onclick = () => {\n",
              "      resolve(null);\n",
              "    };\n",
              "  });\n",
              "\n",
              "  // Wait for the user to pick the files.\n",
              "  const files = yield {\n",
              "    promise: Promise.race([pickedPromise, cancelPromise]),\n",
              "    response: {\n",
              "      action: 'starting',\n",
              "    }\n",
              "  };\n",
              "\n",
              "  cancel.remove();\n",
              "\n",
              "  // Disable the input element since further picks are not allowed.\n",
              "  inputElement.disabled = true;\n",
              "\n",
              "  if (!files) {\n",
              "    return {\n",
              "      response: {\n",
              "        action: 'complete',\n",
              "      }\n",
              "    };\n",
              "  }\n",
              "\n",
              "  for (const file of files) {\n",
              "    const li = document.createElement('li');\n",
              "    li.append(span(file.name, {fontWeight: 'bold'}));\n",
              "    li.append(span(\n",
              "        `(${file.type || 'n/a'}) - ${file.size} bytes, ` +\n",
              "        `last modified: ${\n",
              "            file.lastModifiedDate ? file.lastModifiedDate.toLocaleDateString() :\n",
              "                                    'n/a'} - `));\n",
              "    const percent = span('0% done');\n",
              "    li.appendChild(percent);\n",
              "\n",
              "    outputElement.appendChild(li);\n",
              "\n",
              "    const fileDataPromise = new Promise((resolve) => {\n",
              "      const reader = new FileReader();\n",
              "      reader.onload = (e) => {\n",
              "        resolve(e.target.result);\n",
              "      };\n",
              "      reader.readAsArrayBuffer(file);\n",
              "    });\n",
              "    // Wait for the data to be ready.\n",
              "    let fileData = yield {\n",
              "      promise: fileDataPromise,\n",
              "      response: {\n",
              "        action: 'continue',\n",
              "      }\n",
              "    };\n",
              "\n",
              "    // Use a chunked sending to avoid message size limits. See b/62115660.\n",
              "    let position = 0;\n",
              "    do {\n",
              "      const length = Math.min(fileData.byteLength - position, MAX_PAYLOAD_SIZE);\n",
              "      const chunk = new Uint8Array(fileData, position, length);\n",
              "      position += length;\n",
              "\n",
              "      const base64 = btoa(String.fromCharCode.apply(null, chunk));\n",
              "      yield {\n",
              "        response: {\n",
              "          action: 'append',\n",
              "          file: file.name,\n",
              "          data: base64,\n",
              "        },\n",
              "      };\n",
              "\n",
              "      let percentDone = fileData.byteLength === 0 ?\n",
              "          100 :\n",
              "          Math.round((position / fileData.byteLength) * 100);\n",
              "      percent.textContent = `${percentDone}% done`;\n",
              "\n",
              "    } while (position < fileData.byteLength);\n",
              "  }\n",
              "\n",
              "  // All done.\n",
              "  yield {\n",
              "    response: {\n",
              "      action: 'complete',\n",
              "    }\n",
              "  };\n",
              "}\n",
              "\n",
              "scope.google = scope.google || {};\n",
              "scope.google.colab = scope.google.colab || {};\n",
              "scope.google.colab._files = {\n",
              "  _uploadFiles,\n",
              "  _uploadFilesContinue,\n",
              "};\n",
              "})(self);\n",
              "</script> "
            ]
          },
          "metadata": {}
        },
        {
          "output_type": "stream",
          "name": "stdout",
          "text": [
            "Saving 0001_0168.JPG to 0001_0168 (2).JPG\n"
          ]
        }
      ]
    },
    {
      "cell_type": "code",
      "source": [
        "target_list = [\"Basil\", \"Chinar\", \"Jamun\", \"Lemon\", \"Mango\"]"
      ],
      "metadata": {
        "id": "K2Ns6QN-yMDW"
      },
      "execution_count": 30,
      "outputs": []
    },
    {
      "cell_type": "code",
      "source": [
        "# 클래스 별 이미지 비율 조정을 위해 제거했던 바질 사진으로 테스트\n",
        "img = image.load_img(\"basil.JPG\", target_size=(80, 120))\n",
        "img_array = image.img_to_array(img)\n",
        "img_array = np.expand_dims(img_array, axis = 0)\n",
        "img_array = img_array / 255.0\n",
        "\n",
        "predict = model.predict(img_array)\n",
        "plt.imshow(img)\n",
        "print(target_list[np.argmax(predict)])\n",
        "\n",
        "\n",
        "print(\"확률값\")\n",
        "for i in range(5):\n",
        "  print(target_list[i], ':', \"%0.7f\" % predict[0][i])"
      ],
      "metadata": {
        "colab": {
          "base_uri": "https://localhost:8080/",
          "height": 543
        },
        "id": "eRZqos6Jv2Lc",
        "outputId": "b53ceafb-ea9f-4544-d686-e270fe6b389d"
      },
      "execution_count": 39,
      "outputs": [
        {
          "output_type": "stream",
          "name": "stdout",
          "text": [
            "1/1 [==============================] - 0s 18ms/step\n",
            "Basil\n",
            "확률값\n",
            "Basil : 0.9943814\n",
            "Chinar : 0.0039815\n",
            "Jamun : 0.0000000\n",
            "Lemon : 0.0000188\n",
            "Mango : 0.0016183\n"
          ]
        },
        {
          "output_type": "display_data",
          "data": {
            "text/plain": [
              "<Figure size 640x480 with 1 Axes>"
            ],
            "image/png": "[encoded data removed]"
          },
          "metadata": {}
        }
      ]
    },
    {
      "cell_type": "code",
      "source": [
        "# 웹에서 찾은 망고 사진으로 테스트\n",
        "img = image.load_img(\"mango.jpg\", target_size=(80, 120))\n",
        "img_array = image.img_to_array(img)\n",
        "img_array = np.expand_dims(img_array, axis = 0)\n",
        "img_array = img_array / 255.0\n",
        "\n",
        "predict = model.predict(img_array)  # 결과 예측\n",
        "plt.imshow(img)\n",
        "print(target_list[np.argmax(predict)])\n",
        "\n",
        "print(\"확률값\")\n",
        "for i in range(5):\n",
        "  print(target_list[i], ':', \"%0.7f\" % predict[0][i])"
      ],
      "metadata": {
        "colab": {
          "base_uri": "https://localhost:8080/",
          "height": 543
        },
        "id": "lTkq1LcYzJ5v",
        "outputId": "cfb55891-d5be-4601-f789-19cd602b7a0c"
      },
      "execution_count": 43,
      "outputs": [
        {
          "output_type": "stream",
          "name": "stdout",
          "text": [
            "1/1 [==============================] - 0s 18ms/step\n",
            "Mango\n",
            "확률값\n",
            "Basil : 0.1531348\n",
            "Chinar : 0.0000009\n",
            "Jamun : 0.0000000\n",
            "Lemon : 0.0001722\n",
            "Mango : 0.8466920\n"
          ]
        },
        {
          "output_type": "display_data",
          "data": {
            "text/plain": [
              "<Figure size 640x480 with 1 Axes>"
            ],
            "image/png": "[encoded data removed]"
          },
          "metadata": {}
        }
      ]
    },
    {
      "cell_type": "code",
      "source": [
        "# 웹에서 찾은 버즘나무잎 사진으로 테스트\n",
        "img = image.load_img(\"chinar.png\", target_size=(80, 120))\n",
        "img_array = image.img_to_array(img)\n",
        "img_array = np.expand_dims(img_array, axis = 0)\n",
        "img_array = img_array / 255.0\n",
        "\n",
        "predict = model.predict(img_array)  # 결과 예측\n",
        "plt.imshow(img)\n",
        "print(target_list[np.argmax(predict)])\n",
        "\n",
        "print(\"확률값\")\n",
        "for i in range(5):\n",
        "  print(target_list[i], ':', \"%0.7f\" % predict[0][i])"
      ],
      "metadata": {
        "colab": {
          "base_uri": "https://localhost:8080/",
          "height": 543
        },
        "id": "bXiu2UwD6aEt",
        "outputId": "81f84fe9-b727-43b4-9006-b49c18a987a2"
      },
      "execution_count": 45,
      "outputs": [
        {
          "output_type": "stream",
          "name": "stdout",
          "text": [
            "1/1 [==============================] - 0s 17ms/step\n",
            "Chinar\n",
            "확률값\n",
            "Basil : 0.2039490\n",
            "Chinar : 0.7715524\n",
            "Jamun : 0.0000000\n",
            "Lemon : 0.0000146\n",
            "Mango : 0.0244839\n"
          ]
        },
        {
          "output_type": "display_data",
          "data": {
            "text/plain": [
              "<Figure size 640x480 with 1 Axes>"
            ],
            "image/png": "[encoded data removed]"
          },
          "metadata": {}
        }
      ]
    }
  ]
}
